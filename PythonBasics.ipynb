{
  "nbformat": 4,
  "nbformat_minor": 0,
  "metadata": {
    "colab": {
      "provenance": [],
      "authorship_tag": "ABX9TyNTZFUX6nR344NtT5Xo7qxn",
      "include_colab_link": true
    },
    "kernelspec": {
      "name": "python3",
      "display_name": "Python 3"
    },
    "language_info": {
      "name": "python"
    }
  },
  "cells": [
    {
      "cell_type": "markdown",
      "metadata": {
        "id": "view-in-github",
        "colab_type": "text"
      },
      "source": [
        "<a href=\"https://colab.research.google.com/github/ShabeerP/Python-Basics/blob/main/PythonBasics.ipynb\" target=\"_parent\"><img src=\"https://colab.research.google.com/assets/colab-badge.svg\" alt=\"Open In Colab\"/></a>"
      ]
    },
    {
      "cell_type": "code",
      "source": [
        "# 1.Creating python code for extracting months from the date/month/year format.\n",
        "\n",
        "from datetime import datetime\n",
        "\n",
        "def get_month(date_string):\n",
        "    # Parsing the date string into a datetime object\n",
        "    date_object = datetime.strptime(date_string, \"%d/%m/%Y\")\n",
        "\n",
        "    # Extracting the month from the datetime object\n",
        "    month = date_object.month\n",
        "\n",
        "    return month\n",
        "\n",
        "# Example\n",
        "date_string = \"09/06/2023\"\n",
        "selected_month = get_month(date_string)\n",
        "print(selected_month)\n"
      ],
      "metadata": {
        "colab": {
          "base_uri": "https://localhost:8080/"
        },
        "id": "GbewXwhmIxIY",
        "outputId": "dd6333e2-8151-420a-a798-fe7c9473d623"
      },
      "execution_count": 5,
      "outputs": [
        {
          "output_type": "stream",
          "name": "stdout",
          "text": [
            "6\n"
          ]
        }
      ]
    },
    {
      "cell_type": "code",
      "execution_count": 12,
      "metadata": {
        "colab": {
          "base_uri": "https://localhost:8080/"
        },
        "id": "9WTR8ZcaGrqe",
        "outputId": "ff0841e8-2500-476e-edb7-88ec15a785c9"
      },
      "outputs": [
        {
          "output_type": "stream",
          "name": "stdout",
          "text": [
            "Row 0 is Same Column 0\n",
            "Row 0 is Before Column 1\n",
            "Row 0 is Before Column 2\n",
            "Row 0 is Before Column 3\n",
            "Row 0 is Before Column 4\n",
            "Row 1 is After Column 0\n",
            "Row 1 is Same Column 1\n",
            "Row 1 is Before Column 2\n",
            "Row 1 is Before Column 3\n",
            "Row 1 is Before Column 4\n",
            "Row 2 is After Column 0\n",
            "Row 2 is After Column 1\n",
            "Row 2 is Same Column 2\n",
            "Row 2 is Before Column 3\n",
            "Row 2 is Before Column 4\n",
            "Row 3 is After Column 0\n",
            "Row 3 is After Column 1\n",
            "Row 3 is After Column 2\n",
            "Row 3 is Same Column 3\n",
            "Row 3 is Before Column 4\n",
            "Row 4 is After Column 0\n",
            "Row 4 is After Column 1\n",
            "Row 4 is After Column 2\n",
            "Row 4 is After Column 3\n",
            "Row 4 is Same Column 4\n",
            "\n",
            "Matrix:\n",
            "['Same', 'Before', 'Before', 'Before', 'Before']\n",
            "['After', 'Same', 'Before', 'Before', 'Before']\n",
            "['After', 'After', 'Same', 'Before', 'Before']\n",
            "['After', 'After', 'After', 'Same', 'Before']\n",
            "['After', 'After', 'After', 'After', 'Same']\n"
          ]
        }
      ],
      "source": [
        "# 3.creating a matrix diagram using python code snippets\n",
        "\n",
        "# Define the dimensions of the matrix\n",
        "num_rows = 5\n",
        "num_cols = 5\n",
        "\n",
        "# Create the matrix\n",
        "matrix = [[0] * num_cols for _ in range(num_rows)]\n",
        "\n",
        "# Iterate through the matrix\n",
        "for i in range(num_rows):\n",
        "    for j in range(num_cols):\n",
        "        # Set the relationship based on row index i and column index j\n",
        "        if i == j:\n",
        "            relationship = \"Same\"\n",
        "        elif i < j:\n",
        "            relationship = \"Before\"\n",
        "        else:\n",
        "            relationship = \"After\"\n",
        "\n",
        "        # Print the relationship\n",
        "        print(f\"Row {i} is {relationship} Column {j}\")\n",
        "\n",
        "        # Assign the relationship to the matrix element\n",
        "        matrix[i][j] = relationship\n",
        "\n",
        "# Print the matrix\n",
        "print(\"\\nMatrix:\")\n",
        "for row in matrix:\n",
        "    print(row)\n"
      ]
    },
    {
      "cell_type": "code",
      "source": [
        "# 2.Creating a Python code for \" Print the sentence exactly as shown in a single line with no more than one space between each text -> My address is 23\\navi Mumbai, \"Gandhi\" nagar \\times office'\n",
        "\n",
        "address = 'My address is 23\\\\navi Mumbai, \"Gandhi\" nagar \\\\times office'\n",
        "\n",
        "# Remove newlines and replace multiple spaces with a single space\n",
        "formatted_address = ' '.join(address.split())\n",
        "\n",
        "print(formatted_address)\n"
      ],
      "metadata": {
        "colab": {
          "base_uri": "https://localhost:8080/"
        },
        "id": "vdxBE7lEKSDk",
        "outputId": "909426eb-8bad-41c5-8e10-e6c18434accb"
      },
      "execution_count": 8,
      "outputs": [
        {
          "output_type": "stream",
          "name": "stdout",
          "text": [
            "My address is 23\\navi Mumbai, \"Gandhi\" nagar \\times office\n"
          ]
        }
      ]
    },
    {
      "cell_type": "code",
      "source": [
        "# 4.Write a simple code to take inputs (Name, Age, Gender, Department, Percentage) and display as ->\n",
        "\n",
        "#-----------\n",
        "#Profile\n",
        "#=========\n",
        "#Name : Ani\n",
        "#Age : 21\n",
        "#Gender : Female\n",
        "#Department : Finance\n",
        "#Percentage : 50.0 %\n",
        "#/\\/\\/\\/\\/\\/\\/\\/\\\n",
        "#-----------\n",
        "name = input(\"Enter Name: \")\n",
        "age = input(\"Enter Age: \")\n",
        "gender = input(\"Enter Gender: \")\n",
        "department = input(\"Enter Department: \")\n",
        "percentage = input(\"Enter Percentage: \")\n",
        "\n",
        "print(\"-----------\")\n",
        "print(\"Profile\")\n",
        "print(\"=========\")\n",
        "print(\"Name :\", name)\n",
        "print(\"Age :\", age)\n",
        "print(\"Gender :\", gender)\n",
        "print(\"Department :\", department)\n",
        "print(\"Percentage :\", percentage, \"%\")\n",
        "print(\"/\\\\/\\\\/\\\\/\\\\/\\\\/\\\\\")\n",
        "print(\"-----------\")\n"
      ],
      "metadata": {
        "colab": {
          "base_uri": "https://localhost:8080/"
        },
        "id": "fZoNvk_fIQ-u",
        "outputId": "26d1e67a-6dd9-4279-cad4-41ffa95989d2"
      },
      "execution_count": 11,
      "outputs": [
        {
          "output_type": "stream",
          "name": "stdout",
          "text": [
            "Enter Name: asd\n",
            "Enter Age: 12\n",
            "Enter Gender: m\n",
            "Enter Department: qwe\n",
            "Enter Percentage: 23\n",
            "-----------\n",
            "Profile\n",
            "=========\n",
            "Name : asd\n",
            "Age : 12\n",
            "Gender : m\n",
            "Department : qwe\n",
            "Percentage : 23 %\n",
            "/\\/\\/\\/\\/\\/\\\n",
            "-----------\n"
          ]
        }
      ]
    },
    {
      "cell_type": "code",
      "source": [],
      "metadata": {
        "id": "EB-mxGaWPc1Q"
      },
      "execution_count": null,
      "outputs": []
    }
  ]
}