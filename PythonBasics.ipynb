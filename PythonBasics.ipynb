{
  "nbformat": 4,
  "nbformat_minor": 0,
  "metadata": {
    "colab": {
      "provenance": [],
      "authorship_tag": "ABX9TyM322Y8xb65dz0SM8Jil1rC",
      "include_colab_link": true
    },
    "kernelspec": {
      "name": "python3",
      "display_name": "Python 3"
    },
    "language_info": {
      "name": "python"
    }
  },
  "cells": [
    {
      "cell_type": "markdown",
      "metadata": {
        "id": "view-in-github",
        "colab_type": "text"
      },
      "source": [
        "<a href=\"https://colab.research.google.com/github/ShabeerP/Python-Basics/blob/main/PythonBasics.ipynb\" target=\"_parent\"><img src=\"https://colab.research.google.com/assets/colab-badge.svg\" alt=\"Open In Colab\"/></a>"
      ]
    },
    {
      "cell_type": "code",
      "source": [
        "# 1.Creating python code for extracting months from the date/month/year format.\n",
        "\n",
        "from datetime import datetime\n",
        "\n",
        "def get_month(date_string):\n",
        "    # Parsing the date string into a datetime object\n",
        "    date_object = datetime.strptime(date_string, \"%d/%m/%Y\")\n",
        "\n",
        "    # Extracting the month from the datetime object\n",
        "    month = date_object.month\n",
        "\n",
        "    return month\n",
        "\n",
        "# Example\n",
        "date_string = \"09/06/2023\"\n",
        "selected_month = get_month(date_string)\n",
        "print(selected_month)\n"
      ],
      "metadata": {
        "colab": {
          "base_uri": "https://localhost:8080/"
        },
        "id": "GbewXwhmIxIY",
        "outputId": "dd6333e2-8151-420a-a798-fe7c9473d623"
      },
      "execution_count": null,
      "outputs": [
        {
          "output_type": "stream",
          "name": "stdout",
          "text": [
            "6\n"
          ]
        }
      ]
    },
    {
      "cell_type": "code",
      "execution_count": null,
      "metadata": {
        "colab": {
          "base_uri": "https://localhost:8080/"
        },
        "id": "9WTR8ZcaGrqe",
        "outputId": "ff0841e8-2500-476e-edb7-88ec15a785c9"
      },
      "outputs": [
        {
          "output_type": "stream",
          "name": "stdout",
          "text": [
            "Row 0 is Same Column 0\n",
            "Row 0 is Before Column 1\n",
            "Row 0 is Before Column 2\n",
            "Row 0 is Before Column 3\n",
            "Row 0 is Before Column 4\n",
            "Row 1 is After Column 0\n",
            "Row 1 is Same Column 1\n",
            "Row 1 is Before Column 2\n",
            "Row 1 is Before Column 3\n",
            "Row 1 is Before Column 4\n",
            "Row 2 is After Column 0\n",
            "Row 2 is After Column 1\n",
            "Row 2 is Same Column 2\n",
            "Row 2 is Before Column 3\n",
            "Row 2 is Before Column 4\n",
            "Row 3 is After Column 0\n",
            "Row 3 is After Column 1\n",
            "Row 3 is After Column 2\n",
            "Row 3 is Same Column 3\n",
            "Row 3 is Before Column 4\n",
            "Row 4 is After Column 0\n",
            "Row 4 is After Column 1\n",
            "Row 4 is After Column 2\n",
            "Row 4 is After Column 3\n",
            "Row 4 is Same Column 4\n",
            "\n",
            "Matrix:\n",
            "['Same', 'Before', 'Before', 'Before', 'Before']\n",
            "['After', 'Same', 'Before', 'Before', 'Before']\n",
            "['After', 'After', 'Same', 'Before', 'Before']\n",
            "['After', 'After', 'After', 'Same', 'Before']\n",
            "['After', 'After', 'After', 'After', 'Same']\n"
          ]
        }
      ],
      "source": [
        "# 3.creating a matrix diagram using python code snippets\n",
        "\n",
        "# Define the dimensions of the matrix\n",
        "num_rows = 5\n",
        "num_cols = 5\n",
        "\n",
        "# Create the matrix\n",
        "matrix = [[0] * num_cols for _ in range(num_rows)]\n",
        "\n",
        "# Iterate through the matrix\n",
        "for i in range(num_rows):\n",
        "    for j in range(num_cols):\n",
        "        # Set the relationship based on row index i and column index j\n",
        "        if i == j:\n",
        "            relationship = \"Same\"\n",
        "        elif i < j:\n",
        "            relationship = \"Before\"\n",
        "        else:\n",
        "            relationship = \"After\"\n",
        "\n",
        "        # Print the relationship\n",
        "        print(f\"Row {i} is {relationship} Column {j}\")\n",
        "\n",
        "        # Assign the relationship to the matrix element\n",
        "        matrix[i][j] = relationship\n",
        "\n",
        "# Print the matrix\n",
        "print(\"\\nMatrix:\")\n",
        "for row in matrix:\n",
        "    print(row)\n"
      ]
    },
    {
      "cell_type": "code",
      "source": [
        "# 2.Creating a Python code for \" Print the sentence exactly as shown in a single line with no more than one space between each text -> My address is 23\\navi Mumbai, \"Gandhi\" nagar \\times office'\n",
        "\n",
        "address = 'My address is 23\\\\navi Mumbai, \"Gandhi\" nagar \\\\times office'\n",
        "\n",
        "# Remove newlines and replace multiple spaces with a single space\n",
        "formatted_address = ' '.join(address.split())\n",
        "\n",
        "print(formatted_address)\n"
      ],
      "metadata": {
        "colab": {
          "base_uri": "https://localhost:8080/"
        },
        "id": "vdxBE7lEKSDk",
        "outputId": "909426eb-8bad-41c5-8e10-e6c18434accb"
      },
      "execution_count": null,
      "outputs": [
        {
          "output_type": "stream",
          "name": "stdout",
          "text": [
            "My address is 23\\navi Mumbai, \"Gandhi\" nagar \\times office\n"
          ]
        }
      ]
    },
    {
      "cell_type": "code",
      "source": [
        "# 4.Write a simple code to take inputs (Name, Age, Gender, Department, Percentage) and display as ->\n",
        "\n",
        "#-----------\n",
        "#Profile\n",
        "#=========\n",
        "#Name : Ani\n",
        "#Age : 21\n",
        "#Gender : Female\n",
        "#Department : Finance\n",
        "#Percentage : 50.0 %\n",
        "#/\\/\\/\\/\\/\\/\\/\\/\\\n",
        "#-----------\n",
        "name = input(\"Enter Name: \")\n",
        "age = input(\"Enter Age: \")\n",
        "gender = input(\"Enter Gender: \")\n",
        "department = input(\"Enter Department: \")\n",
        "percentage = input(\"Enter Percentage: \")\n",
        "\n",
        "print(\"-----------\")\n",
        "print(\"Profile\")\n",
        "print(\"=========\")\n",
        "print(\"Name :\", name)\n",
        "print(\"Age :\", age)\n",
        "print(\"Gender :\", gender)\n",
        "print(\"Department :\", department)\n",
        "print(\"Percentage :\", percentage, \"%\")\n",
        "print(\"/\\\\/\\\\/\\\\/\\\\/\\\\/\\\\\")\n",
        "print(\"-----------\")\n"
      ],
      "metadata": {
        "colab": {
          "base_uri": "https://localhost:8080/"
        },
        "id": "fZoNvk_fIQ-u",
        "outputId": "26d1e67a-6dd9-4279-cad4-41ffa95989d2"
      },
      "execution_count": null,
      "outputs": [
        {
          "output_type": "stream",
          "name": "stdout",
          "text": [
            "Enter Name: asd\n",
            "Enter Age: 12\n",
            "Enter Gender: m\n",
            "Enter Department: qwe\n",
            "Enter Percentage: 23\n",
            "-----------\n",
            "Profile\n",
            "=========\n",
            "Name : asd\n",
            "Age : 12\n",
            "Gender : m\n",
            "Department : qwe\n",
            "Percentage : 23 %\n",
            "/\\/\\/\\/\\/\\/\\\n",
            "-----------\n"
          ]
        }
      ]
    },
    {
      "cell_type": "code",
      "source": [
        "#5.Print the following patterns using Nested Loops\n",
        "#####\n",
        "#        #\n",
        "#        #\n",
        "#####\n",
        "# Define the pattern dimensions\n",
        "rows = 4\n",
        "columns = 5\n",
        "\n",
        "# Print the pattern\n",
        "for i in range(rows):\n",
        "    for j in range(columns):\n",
        "        if i == 0 or i == rows - 1 or j == 0 or j == columns - 1:\n",
        "            print(\"#\", end=\"\")\n",
        "        else:\n",
        "            print(\" \", end=\"\")\n",
        "    print()\n"
      ],
      "metadata": {
        "id": "EB-mxGaWPc1Q",
        "colab": {
          "base_uri": "https://localhost:8080/"
        },
        "outputId": "44fdcc3a-ae5c-4e1a-a891-13d12bf1f891"
      },
      "execution_count": 1,
      "outputs": [
        {
          "output_type": "stream",
          "name": "stdout",
          "text": [
            "#####\n",
            "#   #\n",
            "#   #\n",
            "#####\n"
          ]
        }
      ]
    },
    {
      "cell_type": "code",
      "source": [
        "# 6.print the following pattern using the Python snippet\n",
        "# $$$$$\n",
        "#  $$$\n",
        "#   $\n",
        "\n",
        "# Define the pattern dimensions\n",
        "rows = 3\n",
        "columns = 5\n",
        "\n",
        "# Print the pattern\n",
        "for i in range(rows):\n",
        "    for j in range(columns):\n",
        "        if j >= i and j < columns - i:\n",
        "            print(\"$\", end=\"\")\n",
        "        else:\n",
        "            print(\" \", end=\"\")\n",
        "    print()\n",
        "\n"
      ],
      "metadata": {
        "colab": {
          "base_uri": "https://localhost:8080/"
        },
        "id": "dnyAG87ZLg4U",
        "outputId": "4267e31e-741a-4972-a39a-6aabff771d17"
      },
      "execution_count": 3,
      "outputs": [
        {
          "output_type": "stream",
          "name": "stdout",
          "text": [
            "$$$$$\n",
            " $$$ \n",
            "  $  \n"
          ]
        }
      ]
    },
    {
      "cell_type": "code",
      "source": [
        "# 7.Write a program to take string as input() and create a dictionary using comprehension to store occurrences of unique characters in the string.\n",
        "#For eg: if string is \"teeth\", result should be dictionary {'t':2, 'e':2, 'h':1}\n",
        "\n",
        "# Take string as input from the user\n",
        "string = input(\"Enter a string: \")\n",
        "\n",
        "# Create a dictionary using a comprehension to store occurrences of unique characters\n",
        "char_counts = {char: string.count(char) for char in set(string)}\n",
        "\n",
        "# Print the resulting dictionary\n",
        "print(char_counts)\n"
      ],
      "metadata": {
        "colab": {
          "base_uri": "https://localhost:8080/"
        },
        "id": "rVkZpXSx7HHS",
        "outputId": "df6a97f4-d91f-4d56-e4e3-232d95b84215"
      },
      "execution_count": 4,
      "outputs": [
        {
          "output_type": "stream",
          "name": "stdout",
          "text": [
            "Enter a string: teeth\n",
            "{'h': 1, 'e': 2, 't': 2}\n"
          ]
        }
      ]
    },
    {
      "cell_type": "code",
      "source": [
        "# 8.Write a python program to find pairs of values in a list [1, 2, 4, 4, 5, 3, 6, 7, 1, 3] that adds up to a given sum.\n",
        "#For eg. If sum expected is 5\n",
        "#       Result should be : [(1, 4), (2, 3)]\n",
        "\n",
        "l = [1, 1, 2, 3, 4, 1, 7, 6]\n",
        "target_sum = 5\n",
        "new_l = []\n",
        "found_pairs = set()\n",
        "\n",
        "for i in l:\n",
        "    for j in l:\n",
        "        if i + j == target_sum and (i, j) not in found_pairs and (j, i) not in found_pairs:\n",
        "            print(f\"Pair: ({i}, {j})\")\n",
        "            new_l.append((i, j))\n",
        "            found_pairs.add((i, j))\n",
        "\n",
        "print(\"Pairs as tuples:\", new_l)\n",
        "\n",
        "\n"
      ],
      "metadata": {
        "colab": {
          "base_uri": "https://localhost:8080/"
        },
        "id": "FgX0H0pBMyQy",
        "outputId": "3bbdedcf-b01c-43de-da37-192973ec3df1"
      },
      "execution_count": 7,
      "outputs": [
        {
          "output_type": "stream",
          "name": "stdout",
          "text": [
            "Pair: (1, 4)\n",
            "Pair: (2, 3)\n",
            "Pairs as tuples: [(1, 4), (2, 3)]\n"
          ]
        }
      ]
    },
    {
      "cell_type": "code",
      "source": [
        "#9. Given two strings, identify characters that are not common in both strings.\n",
        "#For eg: if strings are \"how\" and \"what\",\n",
        "#        The result will be {\"o\", \"a\", \"t\"}\n",
        "\n",
        "def find_unique_chars(str1, str2):\n",
        "    set1 = set(str1)\n",
        "    set2 = set(str2)\n",
        "    unique_chars = set1.symmetric_difference(set2)\n",
        "    return unique_chars\n",
        "\n",
        "# Example usage:\n",
        "string1 = \"how\"\n",
        "string2 = \"what\"\n",
        "result = find_unique_chars(string1, string2)\n",
        "print(result)\n"
      ],
      "metadata": {
        "colab": {
          "base_uri": "https://localhost:8080/"
        },
        "id": "iImuvTIqN3NM",
        "outputId": "ec89e090-aaff-423f-d6ab-3eb6d0303186"
      },
      "execution_count": 8,
      "outputs": [
        {
          "output_type": "stream",
          "name": "stdout",
          "text": [
            "{'o', 'a', 't'}\n"
          ]
        }
      ]
    },
    {
      "cell_type": "code",
      "source": [
        "#10. Write a python function with explanation that performs the following :\n",
        "#     A.  Takes a variable as argument\n",
        "#     B.  Checks type of the variable and return TypeError if the variable is not an integer\n",
        "#     C. Raises an InvalidNumberException if the number is negative\n",
        "#     D. If it passes all conditions, check whether the number is prime or not and returns a Boolean value (False/ True)\n",
        "#     E. Handle the exception gracefully using try except blocks and print error message.\n",
        "\n",
        "class InvalidNumberException(Exception):\n",
        "    pass\n",
        "\n",
        "def check_prime_number(variable):\n",
        "    try:\n",
        "        if type(variable) != int:\n",
        "            raise TypeError(\"Variable is not an integer\")\n",
        "\n",
        "        if variable < 0:\n",
        "            raise InvalidNumberException(\"Number is negative\")\n",
        "\n",
        "        if variable < 2:\n",
        "            return False\n",
        "\n",
        "        for i in range(2, int(variable**0.5) + 1):\n",
        "            if variable % i == 0:\n",
        "                return False\n",
        "\n",
        "        return True\n",
        "\n",
        "    except TypeError as e:\n",
        "        print(f\"TypeError: {str(e)}\")\n",
        "        return False\n",
        "\n",
        "    except InvalidNumberException as e:\n",
        "        print(f\"InvalidNumberException: {str(e)}\")\n",
        "        return False\n",
        "\n",
        "# Example usage:\n",
        "num = 17\n",
        "is_prime = check_prime_number(num)\n",
        "print(f\"{num} is prime: {is_prime}\")\n",
        "\n",
        "\n"
      ],
      "metadata": {
        "colab": {
          "base_uri": "https://localhost:8080/"
        },
        "id": "uch118eEOV-V",
        "outputId": "c4395f95-0b4e-480e-ff95-dcee874ecf95"
      },
      "execution_count": 9,
      "outputs": [
        {
          "output_type": "stream",
          "name": "stdout",
          "text": [
            "17 is prime: True\n"
          ]
        }
      ]
    },
    {
      "cell_type": "code",
      "source": [
        "#11. Write a python module defines a parent class Shape and two derived classes Circle and Rectangle.\n",
        "# The Shape class has two empty methods calculate_area() and calculate_perimeter().\n",
        "# The derived classes override these methods to calculate the area and perimeter of the specific shape.\n",
        "\n",
        "import math\n",
        "\n",
        "class Shape:\n",
        "    def calculate_area(self):\n",
        "        pass\n",
        "\n",
        "    def calculate_perimeter(self):\n",
        "        pass\n",
        "\n",
        "class Circle(Shape):\n",
        "    def __init__(self, radius):\n",
        "        self.radius = radius\n",
        "\n",
        "    def calculate_area(self):\n",
        "        return math.pi * self.radius**2\n",
        "\n",
        "    def calculate_perimeter(self):\n",
        "        return 2 * math.pi * self.radius\n",
        "\n",
        "class Rectangle(Shape):\n",
        "    def __init__(self, width, height):\n",
        "        self.width = width\n",
        "        self.height = height\n",
        "\n",
        "    def calculate_area(self):\n",
        "        return self.width * self.height\n",
        "\n",
        "    def calculate_perimeter(self):\n",
        "        return 2 * (self.width + self.height)\n",
        "\n",
        "# Create a Circle object\n",
        "circle = Circle(radius=5)\n",
        "print(\"Circle Area:\", circle.calculate_area())\n",
        "print(\"Circle Perimeter:\", circle.calculate_perimeter())\n",
        "\n",
        "# Create a Rectangle object\n",
        "rectangle = Rectangle(width=4, height=6)\n",
        "print(\"Rectangle Area:\", rectangle.calculate_area())\n",
        "print(\"Rectangle Perimeter:\", rectangle.calculate_perimeter())\n"
      ],
      "metadata": {
        "colab": {
          "base_uri": "https://localhost:8080/"
        },
        "id": "jdQodsQvOtJu",
        "outputId": "9a5ba506-cecf-49af-c2d5-e0bd15841068"
      },
      "execution_count": 11,
      "outputs": [
        {
          "output_type": "stream",
          "name": "stdout",
          "text": [
            "Circle Area: 78.53981633974483\n",
            "Circle Perimeter: 31.41592653589793\n",
            "Rectangle Area: 24\n",
            "Rectangle Perimeter: 20\n"
          ]
        }
      ]
    },
    {
      "cell_type": "code",
      "source": [
        "#12. write a python code for following query\n",
        "# \" Write a function that finds all the words in a sentence that contains atleast two symbols (#, &, @, ! etc) in it\"\n",
        "\n",
        "import re\n",
        "\n",
        "def find_words_with_symbols(sentence):\n",
        "    pattern = r'\\b\\w*[#&@!]+\\w*\\b|\\B[#&@!]+\\w*\\b|\\b\\w*[#&@!]+\\B'\n",
        "    words_with_symbols = re.findall(pattern, sentence)\n",
        "    return words_with_symbols\n",
        "\n",
        "# Example usage:\n",
        "sentence = \"Hello @world! This is a #test sentance with #symbols.\"\n",
        "result = find_words_with_symbols(sentence)\n",
        "print(\"Words with at least two symbols:\", result)\n"
      ],
      "metadata": {
        "colab": {
          "base_uri": "https://localhost:8080/"
        },
        "id": "_TbuYQE3QF6s",
        "outputId": "f22773e1-9fb0-469f-9e87-ffa7767849a5"
      },
      "execution_count": 12,
      "outputs": [
        {
          "output_type": "stream",
          "name": "stdout",
          "text": [
            "Words with at least two symbols: ['@world', '!', '#test', '#symbols']\n"
          ]
        }
      ]
    },
    {
      "cell_type": "code",
      "source": [
        "#13. Create a python code for a structured array containing 5 elements with the following details : Name, DOB, gmail, phone.\n",
        "# Also, write a function that validates gmail (format eg. abc123.caretaker25@gmail.com), DOB (format eg. 25th August 1995) and phone number (format eg. +91-1234567890).\n",
        "# Display the number of rows in structured array for which all details are valid.\n",
        "\n",
        "import numpy as np\n",
        "import re\n",
        "\n",
        "# Create a structured array\n",
        "dtype = [('Name', 'U50'), ('DOB', 'U50'), ('gmail', 'U50'), ('phone', 'U50')]\n",
        "data = [\n",
        "    ('Alice', '25th August 1995', 'abc123.caretaker25@gmail.com', '+91-1234567890'),\n",
        "    ('Bob', '10th May 1988', 'bob123@example.com', '+91-9876543210'),\n",
        "    ('Charlie', '15th June 1990', 'charlie@gmail.com', '+1-555-555-5555'),\n",
        "    ('David', '3rd November 2000', 'david456@gmail.com', '+44-1234567890'),\n",
        "    ('Eve', '20th December 1998', 'eve567@gmail.com', '+33-9876543210')\n",
        "]\n",
        "\n",
        "structured_array = np.array(data, dtype=dtype)\n",
        "\n",
        "# Function to validate gmail format\n",
        "def validate_gmail(email):\n",
        "    pattern = r'^[a-zA-Z0-9._%+-]+@[a-zA-Z0-9.-]+\\.[a-zA-Z]{2,4}$'\n",
        "    return re.match(pattern, email)\n",
        "\n",
        "# Function to validate DOB format\n",
        "def validate_dob(dob):\n",
        "    pattern = r'^\\d{1,2}(\\sths?|\\snds?|\\nrds?|\\nth)?\\s[a-zA-Z]+\\s\\d{4}$'\n",
        "    return re.match(pattern, dob)\n",
        "\n",
        "# Function to validate phone number format\n",
        "def validate_phone(phone):\n",
        "    pattern = r'^\\+\\d{1,2}-\\d{10}$'\n",
        "    return re.match(pattern, phone)\n",
        "\n",
        "# Validate and count rows with valid details\n",
        "valid_rows = 0\n",
        "for row in structured_array:\n",
        "    if (\n",
        "        validate_gmail(row['gmail']) and\n",
        "        validate_dob(row['DOB']) and\n",
        "        validate_phone(row['phone'])\n",
        "    ):\n",
        "        valid_rows += 1\n",
        "\n",
        "print(\"Structured Array:\")\n",
        "print(structured_array)\n",
        "print(\"Number of rows with valid details:\", valid_rows)\n",
        "\n",
        "\n"
      ],
      "metadata": {
        "colab": {
          "base_uri": "https://localhost:8080/"
        },
        "id": "o6mjGouZQyyE",
        "outputId": "bc6d0d69-feeb-4fbf-d847-4292821531b1"
      },
      "execution_count": 13,
      "outputs": [
        {
          "output_type": "stream",
          "name": "stdout",
          "text": [
            "Structured Array:\n",
            "[('Alice', '25th August 1995', 'abc123.caretaker25@gmail.com', '+91-1234567890')\n",
            " ('Bob', '10th May 1988', 'bob123@example.com', '+91-9876543210')\n",
            " ('Charlie', '15th June 1990', 'charlie@gmail.com', '+1-555-555-5555')\n",
            " ('David', '3rd November 2000', 'david456@gmail.com', '+44-1234567890')\n",
            " ('Eve', '20th December 1998', 'eve567@gmail.com', '+33-9876543210')]\n",
            "Number of rows with valid details: 0\n"
          ]
        }
      ]
    }
  ]
}